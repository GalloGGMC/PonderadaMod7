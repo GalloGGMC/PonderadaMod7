{
 "cells": [
  {
   "cell_type": "markdown",
   "metadata": {},
   "source": [
    "# Análise dos dados que serão utilizados"
   ]
  },
  {
   "cell_type": "markdown",
   "metadata": {},
   "source": [
    "## Importando as bibliotecas necessárias para a exploração\n",
    "\n",
    "Para fazer a análise dos dados dos crypto ativos, importei a biblioteca \"yfinance\" que recebe dados da API do YahooFinance, o datetime para fazer processamento de datas e o matplotlib para vizualizar a análise"
   ]
  },
  {
   "cell_type": "code",
   "execution_count": 1,
   "metadata": {},
   "outputs": [],
   "source": [
    "from datetime import datetime\n",
    "import yfinance as yf\n",
    "import matplotlib.pyplot as plt"
   ]
  },
  {
   "cell_type": "markdown",
   "metadata": {},
   "source": [
    "## Etherium\n",
    "\n",
    "Como são dois crypto ativos, eu selecionei o Etherium como o primeiro, recebendo todos os dados que a API fornece com intervalos de 1 minuto"
   ]
  },
  {
   "cell_type": "code",
   "execution_count": 2,
   "metadata": {},
   "outputs": [
    {
     "data": {
      "text/html": [
       "<div>\n",
       "<style scoped>\n",
       "    .dataframe tbody tr th:only-of-type {\n",
       "        vertical-align: middle;\n",
       "    }\n",
       "\n",
       "    .dataframe tbody tr th {\n",
       "        vertical-align: top;\n",
       "    }\n",
       "\n",
       "    .dataframe thead th {\n",
       "        text-align: right;\n",
       "    }\n",
       "</style>\n",
       "<table border=\"1\" class=\"dataframe\">\n",
       "  <thead>\n",
       "    <tr style=\"text-align: right;\">\n",
       "      <th></th>\n",
       "      <th>Open</th>\n",
       "      <th>High</th>\n",
       "      <th>Low</th>\n",
       "      <th>Close</th>\n",
       "      <th>Volume</th>\n",
       "      <th>Dividends</th>\n",
       "      <th>Stock Splits</th>\n",
       "    </tr>\n",
       "    <tr>\n",
       "      <th>Datetime</th>\n",
       "      <th></th>\n",
       "      <th></th>\n",
       "      <th></th>\n",
       "      <th></th>\n",
       "      <th></th>\n",
       "      <th></th>\n",
       "      <th></th>\n",
       "    </tr>\n",
       "  </thead>\n",
       "  <tbody>\n",
       "    <tr>\n",
       "      <th>2024-09-17 00:00:00+00:00</th>\n",
       "      <td>2295.295654</td>\n",
       "      <td>2295.295654</td>\n",
       "      <td>2295.295654</td>\n",
       "      <td>2295.295654</td>\n",
       "      <td>0</td>\n",
       "      <td>0.0</td>\n",
       "      <td>0.0</td>\n",
       "    </tr>\n",
       "    <tr>\n",
       "      <th>2024-09-17 00:01:00+00:00</th>\n",
       "      <td>2294.682373</td>\n",
       "      <td>2294.682373</td>\n",
       "      <td>2294.682373</td>\n",
       "      <td>2294.682373</td>\n",
       "      <td>0</td>\n",
       "      <td>0.0</td>\n",
       "      <td>0.0</td>\n",
       "    </tr>\n",
       "    <tr>\n",
       "      <th>2024-09-17 00:02:00+00:00</th>\n",
       "      <td>2294.441406</td>\n",
       "      <td>2294.441406</td>\n",
       "      <td>2294.441406</td>\n",
       "      <td>2294.441406</td>\n",
       "      <td>0</td>\n",
       "      <td>0.0</td>\n",
       "      <td>0.0</td>\n",
       "    </tr>\n",
       "    <tr>\n",
       "      <th>2024-09-17 00:03:00+00:00</th>\n",
       "      <td>2295.823486</td>\n",
       "      <td>2295.823486</td>\n",
       "      <td>2295.823486</td>\n",
       "      <td>2295.823486</td>\n",
       "      <td>0</td>\n",
       "      <td>0.0</td>\n",
       "      <td>0.0</td>\n",
       "    </tr>\n",
       "    <tr>\n",
       "      <th>2024-09-17 00:04:00+00:00</th>\n",
       "      <td>2296.619385</td>\n",
       "      <td>2296.619385</td>\n",
       "      <td>2296.619385</td>\n",
       "      <td>2296.619385</td>\n",
       "      <td>0</td>\n",
       "      <td>0.0</td>\n",
       "      <td>0.0</td>\n",
       "    </tr>\n",
       "    <tr>\n",
       "      <th>...</th>\n",
       "      <td>...</td>\n",
       "      <td>...</td>\n",
       "      <td>...</td>\n",
       "      <td>...</td>\n",
       "      <td>...</td>\n",
       "      <td>...</td>\n",
       "      <td>...</td>\n",
       "    </tr>\n",
       "    <tr>\n",
       "      <th>2024-09-23 23:54:00+00:00</th>\n",
       "      <td>2647.475586</td>\n",
       "      <td>2647.475586</td>\n",
       "      <td>2647.475586</td>\n",
       "      <td>2647.475586</td>\n",
       "      <td>0</td>\n",
       "      <td>0.0</td>\n",
       "      <td>0.0</td>\n",
       "    </tr>\n",
       "    <tr>\n",
       "      <th>2024-09-23 23:55:00+00:00</th>\n",
       "      <td>2647.793945</td>\n",
       "      <td>2647.793945</td>\n",
       "      <td>2647.793945</td>\n",
       "      <td>2647.793945</td>\n",
       "      <td>0</td>\n",
       "      <td>0.0</td>\n",
       "      <td>0.0</td>\n",
       "    </tr>\n",
       "    <tr>\n",
       "      <th>2024-09-23 23:56:00+00:00</th>\n",
       "      <td>2648.343018</td>\n",
       "      <td>2648.343018</td>\n",
       "      <td>2648.343018</td>\n",
       "      <td>2648.343018</td>\n",
       "      <td>86016</td>\n",
       "      <td>0.0</td>\n",
       "      <td>0.0</td>\n",
       "    </tr>\n",
       "    <tr>\n",
       "      <th>2024-09-23 23:57:00+00:00</th>\n",
       "      <td>2648.698242</td>\n",
       "      <td>2648.698242</td>\n",
       "      <td>2648.698242</td>\n",
       "      <td>2648.698242</td>\n",
       "      <td>0</td>\n",
       "      <td>0.0</td>\n",
       "      <td>0.0</td>\n",
       "    </tr>\n",
       "    <tr>\n",
       "      <th>2024-09-23 23:58:00+00:00</th>\n",
       "      <td>2648.694336</td>\n",
       "      <td>2648.694336</td>\n",
       "      <td>2648.694336</td>\n",
       "      <td>2648.694336</td>\n",
       "      <td>983040</td>\n",
       "      <td>0.0</td>\n",
       "      <td>0.0</td>\n",
       "    </tr>\n",
       "  </tbody>\n",
       "</table>\n",
       "<p>9312 rows × 7 columns</p>\n",
       "</div>"
      ],
      "text/plain": [
       "                                  Open         High          Low        Close  \\\n",
       "Datetime                                                                        \n",
       "2024-09-17 00:00:00+00:00  2295.295654  2295.295654  2295.295654  2295.295654   \n",
       "2024-09-17 00:01:00+00:00  2294.682373  2294.682373  2294.682373  2294.682373   \n",
       "2024-09-17 00:02:00+00:00  2294.441406  2294.441406  2294.441406  2294.441406   \n",
       "2024-09-17 00:03:00+00:00  2295.823486  2295.823486  2295.823486  2295.823486   \n",
       "2024-09-17 00:04:00+00:00  2296.619385  2296.619385  2296.619385  2296.619385   \n",
       "...                                ...          ...          ...          ...   \n",
       "2024-09-23 23:54:00+00:00  2647.475586  2647.475586  2647.475586  2647.475586   \n",
       "2024-09-23 23:55:00+00:00  2647.793945  2647.793945  2647.793945  2647.793945   \n",
       "2024-09-23 23:56:00+00:00  2648.343018  2648.343018  2648.343018  2648.343018   \n",
       "2024-09-23 23:57:00+00:00  2648.698242  2648.698242  2648.698242  2648.698242   \n",
       "2024-09-23 23:58:00+00:00  2648.694336  2648.694336  2648.694336  2648.694336   \n",
       "\n",
       "                           Volume  Dividends  Stock Splits  \n",
       "Datetime                                                    \n",
       "2024-09-17 00:00:00+00:00       0        0.0           0.0  \n",
       "2024-09-17 00:01:00+00:00       0        0.0           0.0  \n",
       "2024-09-17 00:02:00+00:00       0        0.0           0.0  \n",
       "2024-09-17 00:03:00+00:00       0        0.0           0.0  \n",
       "2024-09-17 00:04:00+00:00       0        0.0           0.0  \n",
       "...                           ...        ...           ...  \n",
       "2024-09-23 23:54:00+00:00       0        0.0           0.0  \n",
       "2024-09-23 23:55:00+00:00       0        0.0           0.0  \n",
       "2024-09-23 23:56:00+00:00   86016        0.0           0.0  \n",
       "2024-09-23 23:57:00+00:00       0        0.0           0.0  \n",
       "2024-09-23 23:58:00+00:00  983040        0.0           0.0  \n",
       "\n",
       "[9312 rows x 7 columns]"
      ]
     },
     "execution_count": 2,
     "metadata": {},
     "output_type": "execute_result"
    }
   ],
   "source": [
    "eth = yf.Ticker(\"ETH-USD\")\n",
    "end_date = datetime.now().strftime('%Y-%m-%d')\n",
    "df = eth.history(period='max',end=end_date, interval='1m')\n",
    "df"
   ]
  },
  {
   "cell_type": "markdown",
   "metadata": {},
   "source": [
    "Depois de receber o modelo como um DataFrame de pandas, eu utilizei o método 'info()' para verificar se há dados nulos e o método 'value_counts()' nas colunas 'Dividends' e 'Stock Splits' pois notei que hávia muitos 0 nestas colunas e quis verificar caso este seja o único valor nas colunas"
   ]
  },
  {
   "cell_type": "code",
   "execution_count": 3,
   "metadata": {},
   "outputs": [
    {
     "name": "stdout",
     "output_type": "stream",
     "text": [
      "<class 'pandas.core.frame.DataFrame'>\n",
      "DatetimeIndex: 9312 entries, 2024-09-17 00:00:00+00:00 to 2024-09-23 23:58:00+00:00\n",
      "Data columns (total 7 columns):\n",
      " #   Column        Non-Null Count  Dtype  \n",
      "---  ------        --------------  -----  \n",
      " 0   Open          9312 non-null   float64\n",
      " 1   High          9312 non-null   float64\n",
      " 2   Low           9312 non-null   float64\n",
      " 3   Close         9312 non-null   float64\n",
      " 4   Volume        9312 non-null   int64  \n",
      " 5   Dividends     9312 non-null   float64\n",
      " 6   Stock Splits  9312 non-null   float64\n",
      "dtypes: float64(6), int64(1)\n",
      "memory usage: 582.0 KB\n"
     ]
    }
   ],
   "source": [
    "df.info()"
   ]
  },
  {
   "cell_type": "code",
   "execution_count": 4,
   "metadata": {},
   "outputs": [
    {
     "data": {
      "text/plain": [
       "Dividends\n",
       "0.0    9312\n",
       "Name: count, dtype: int64"
      ]
     },
     "execution_count": 4,
     "metadata": {},
     "output_type": "execute_result"
    }
   ],
   "source": [
    "df[\"Dividends\"].value_counts()"
   ]
  },
  {
   "cell_type": "code",
   "execution_count": 5,
   "metadata": {},
   "outputs": [
    {
     "data": {
      "text/plain": [
       "Stock Splits\n",
       "0.0    9312\n",
       "Name: count, dtype: int64"
      ]
     },
     "execution_count": 5,
     "metadata": {},
     "output_type": "execute_result"
    }
   ],
   "source": [
    "df[\"Stock Splits\"].value_counts()"
   ]
  },
  {
   "cell_type": "markdown",
   "metadata": {},
   "source": [
    "Como a diferença de tempo entre duas linhas consecultivas é de um minuto, os valores de \"Open\" (valor no início do período), \"High\" (o valor mais alto do período), \"Low\" (o valor mais baixo do período) e \"Close\" (valor no início do período) são iguais pois os dados são atualizados por minuto. Assim, eu removi as colunas apenas com 0 (\"Dividends\" e \"Stock Splits\"), removi as colunas iguais, deixando apenas a \"Close\" que eu renomeei para \"Value\" e normalizei os dados tanto da coluna \"Value\" e \"Volume\" (o número de transações feitas no período)"
   ]
  },
  {
   "cell_type": "code",
   "execution_count": 6,
   "metadata": {},
   "outputs": [
    {
     "data": {
      "text/html": [
       "<div>\n",
       "<style scoped>\n",
       "    .dataframe tbody tr th:only-of-type {\n",
       "        vertical-align: middle;\n",
       "    }\n",
       "\n",
       "    .dataframe tbody tr th {\n",
       "        vertical-align: top;\n",
       "    }\n",
       "\n",
       "    .dataframe thead th {\n",
       "        text-align: right;\n",
       "    }\n",
       "</style>\n",
       "<table border=\"1\" class=\"dataframe\">\n",
       "  <thead>\n",
       "    <tr style=\"text-align: right;\">\n",
       "      <th></th>\n",
       "      <th>Value</th>\n",
       "      <th>Volume</th>\n",
       "    </tr>\n",
       "    <tr>\n",
       "      <th>Datetime</th>\n",
       "      <th></th>\n",
       "      <th></th>\n",
       "    </tr>\n",
       "  </thead>\n",
       "  <tbody>\n",
       "    <tr>\n",
       "      <th>2024-09-17 00:00:00+00:00</th>\n",
       "      <td>0.071187</td>\n",
       "      <td>0.000000</td>\n",
       "    </tr>\n",
       "    <tr>\n",
       "      <th>2024-09-17 00:01:00+00:00</th>\n",
       "      <td>0.069779</td>\n",
       "      <td>0.000000</td>\n",
       "    </tr>\n",
       "    <tr>\n",
       "      <th>2024-09-17 00:02:00+00:00</th>\n",
       "      <td>0.069226</td>\n",
       "      <td>0.000000</td>\n",
       "    </tr>\n",
       "    <tr>\n",
       "      <th>2024-09-17 00:03:00+00:00</th>\n",
       "      <td>0.072399</td>\n",
       "      <td>0.000000</td>\n",
       "    </tr>\n",
       "    <tr>\n",
       "      <th>2024-09-17 00:04:00+00:00</th>\n",
       "      <td>0.074226</td>\n",
       "      <td>0.000000</td>\n",
       "    </tr>\n",
       "    <tr>\n",
       "      <th>...</th>\n",
       "      <td>...</td>\n",
       "      <td>...</td>\n",
       "    </tr>\n",
       "    <tr>\n",
       "      <th>2024-09-23 23:54:00+00:00</th>\n",
       "      <td>0.879708</td>\n",
       "      <td>0.000000</td>\n",
       "    </tr>\n",
       "    <tr>\n",
       "      <th>2024-09-23 23:55:00+00:00</th>\n",
       "      <td>0.880439</td>\n",
       "      <td>0.000000</td>\n",
       "    </tr>\n",
       "    <tr>\n",
       "      <th>2024-09-23 23:56:00+00:00</th>\n",
       "      <td>0.881700</td>\n",
       "      <td>0.000314</td>\n",
       "    </tr>\n",
       "    <tr>\n",
       "      <th>2024-09-23 23:57:00+00:00</th>\n",
       "      <td>0.882515</td>\n",
       "      <td>0.000000</td>\n",
       "    </tr>\n",
       "    <tr>\n",
       "      <th>2024-09-23 23:58:00+00:00</th>\n",
       "      <td>0.882506</td>\n",
       "      <td>0.003587</td>\n",
       "    </tr>\n",
       "  </tbody>\n",
       "</table>\n",
       "<p>9312 rows × 2 columns</p>\n",
       "</div>"
      ],
      "text/plain": [
       "                              Value    Volume\n",
       "Datetime                                     \n",
       "2024-09-17 00:00:00+00:00  0.071187  0.000000\n",
       "2024-09-17 00:01:00+00:00  0.069779  0.000000\n",
       "2024-09-17 00:02:00+00:00  0.069226  0.000000\n",
       "2024-09-17 00:03:00+00:00  0.072399  0.000000\n",
       "2024-09-17 00:04:00+00:00  0.074226  0.000000\n",
       "...                             ...       ...\n",
       "2024-09-23 23:54:00+00:00  0.879708  0.000000\n",
       "2024-09-23 23:55:00+00:00  0.880439  0.000000\n",
       "2024-09-23 23:56:00+00:00  0.881700  0.000314\n",
       "2024-09-23 23:57:00+00:00  0.882515  0.000000\n",
       "2024-09-23 23:58:00+00:00  0.882506  0.003587\n",
       "\n",
       "[9312 rows x 2 columns]"
      ]
     },
     "execution_count": 6,
     "metadata": {},
     "output_type": "execute_result"
    }
   ],
   "source": [
    "df = df.drop(columns=[\"Dividends\",\"Stock Splits\",\"High\",\"Low\",\"Open\"])\n",
    "df = df.rename(columns={\"Close\":\"Value\"})\n",
    "df[\"Value\"] = (df[\"Value\"] - df[\"Value\"].min()) / (df[\"Value\"].max() - df[\"Value\"].min())\n",
    "df[\"Volume\"] = (df[\"Volume\"] - df[\"Volume\"].min()) / (df[\"Volume\"].max() - df[\"Volume\"].min())\n",
    "df"
   ]
  },
  {
   "cell_type": "markdown",
   "metadata": {},
   "source": [
    "Tendo normalizado os valores, utilizei o matplotlib para vizualizar em um gráfico de linhas tanto o \"Value\" (linha laranja) no período de tempo quanto o \"Volume\" (linha azul)"
   ]
  },
  {
   "cell_type": "code",
   "execution_count": 7,
   "metadata": {},
   "outputs": [
    {
     "data": {
      "image/png": "[encoded data removed]",
      "text/plain": [
       "<Figure size 640x480 with 1 Axes>"
      ]
     },
     "metadata": {},
     "output_type": "display_data"
    }
   ],
   "source": [
    "plt.plot(df.index,df[\"Volume\"])\n",
    "plt.plot(df.index,df[\"Value\"])\n",
    "plt.show()"
   ]
  },
  {
   "cell_type": "markdown",
   "metadata": {},
   "source": [
    "## Bitcoin\n",
    "\n",
    "Após a análise dos dados de Etherium, decidi utilizar o Bitcoin como segundo crypto ativo e fiz a mesma análise"
   ]
  },
  {
   "cell_type": "code",
   "execution_count": 8,
   "metadata": {},
   "outputs": [
    {
     "data": {
      "text/html": [
       "<div>\n",
       "<style scoped>\n",
       "    .dataframe tbody tr th:only-of-type {\n",
       "        vertical-align: middle;\n",
       "    }\n",
       "\n",
       "    .dataframe tbody tr th {\n",
       "        vertical-align: top;\n",
       "    }\n",
       "\n",
       "    .dataframe thead th {\n",
       "        text-align: right;\n",
       "    }\n",
       "</style>\n",
       "<table border=\"1\" class=\"dataframe\">\n",
       "  <thead>\n",
       "    <tr style=\"text-align: right;\">\n",
       "      <th></th>\n",
       "      <th>Open</th>\n",
       "      <th>High</th>\n",
       "      <th>Low</th>\n",
       "      <th>Close</th>\n",
       "      <th>Volume</th>\n",
       "      <th>Dividends</th>\n",
       "      <th>Stock Splits</th>\n",
       "    </tr>\n",
       "    <tr>\n",
       "      <th>Datetime</th>\n",
       "      <th></th>\n",
       "      <th></th>\n",
       "      <th></th>\n",
       "      <th></th>\n",
       "      <th></th>\n",
       "      <th></th>\n",
       "      <th></th>\n",
       "    </tr>\n",
       "  </thead>\n",
       "  <tbody>\n",
       "    <tr>\n",
       "      <th>2024-09-17 00:00:00+00:00</th>\n",
       "      <td>58204.093750</td>\n",
       "      <td>58204.093750</td>\n",
       "      <td>58204.093750</td>\n",
       "      <td>58204.093750</td>\n",
       "      <td>0</td>\n",
       "      <td>0.0</td>\n",
       "      <td>0.0</td>\n",
       "    </tr>\n",
       "    <tr>\n",
       "      <th>2024-09-17 00:02:00+00:00</th>\n",
       "      <td>58190.289062</td>\n",
       "      <td>58190.289062</td>\n",
       "      <td>58190.289062</td>\n",
       "      <td>58190.289062</td>\n",
       "      <td>0</td>\n",
       "      <td>0.0</td>\n",
       "      <td>0.0</td>\n",
       "    </tr>\n",
       "    <tr>\n",
       "      <th>2024-09-17 00:03:00+00:00</th>\n",
       "      <td>58226.816406</td>\n",
       "      <td>58226.816406</td>\n",
       "      <td>58226.816406</td>\n",
       "      <td>58226.816406</td>\n",
       "      <td>0</td>\n",
       "      <td>0.0</td>\n",
       "      <td>0.0</td>\n",
       "    </tr>\n",
       "    <tr>\n",
       "      <th>2024-09-17 00:04:00+00:00</th>\n",
       "      <td>58249.835938</td>\n",
       "      <td>58249.835938</td>\n",
       "      <td>58249.835938</td>\n",
       "      <td>58249.835938</td>\n",
       "      <td>0</td>\n",
       "      <td>0.0</td>\n",
       "      <td>0.0</td>\n",
       "    </tr>\n",
       "    <tr>\n",
       "      <th>2024-09-17 00:05:00+00:00</th>\n",
       "      <td>58260.316406</td>\n",
       "      <td>58260.316406</td>\n",
       "      <td>58260.316406</td>\n",
       "      <td>58260.316406</td>\n",
       "      <td>0</td>\n",
       "      <td>0.0</td>\n",
       "      <td>0.0</td>\n",
       "    </tr>\n",
       "    <tr>\n",
       "      <th>...</th>\n",
       "      <td>...</td>\n",
       "      <td>...</td>\n",
       "      <td>...</td>\n",
       "      <td>...</td>\n",
       "      <td>...</td>\n",
       "      <td>...</td>\n",
       "      <td>...</td>\n",
       "    </tr>\n",
       "    <tr>\n",
       "      <th>2024-09-23 23:53:00+00:00</th>\n",
       "      <td>63327.683594</td>\n",
       "      <td>63327.683594</td>\n",
       "      <td>63327.683594</td>\n",
       "      <td>63327.683594</td>\n",
       "      <td>3383296</td>\n",
       "      <td>0.0</td>\n",
       "      <td>0.0</td>\n",
       "    </tr>\n",
       "    <tr>\n",
       "      <th>2024-09-23 23:54:00+00:00</th>\n",
       "      <td>63322.550781</td>\n",
       "      <td>63322.550781</td>\n",
       "      <td>63322.550781</td>\n",
       "      <td>63322.550781</td>\n",
       "      <td>0</td>\n",
       "      <td>0.0</td>\n",
       "      <td>0.0</td>\n",
       "    </tr>\n",
       "    <tr>\n",
       "      <th>2024-09-23 23:55:00+00:00</th>\n",
       "      <td>63327.511719</td>\n",
       "      <td>63327.511719</td>\n",
       "      <td>63327.511719</td>\n",
       "      <td>63327.511719</td>\n",
       "      <td>0</td>\n",
       "      <td>0.0</td>\n",
       "      <td>0.0</td>\n",
       "    </tr>\n",
       "    <tr>\n",
       "      <th>2024-09-23 23:56:00+00:00</th>\n",
       "      <td>63342.277344</td>\n",
       "      <td>63342.277344</td>\n",
       "      <td>63342.277344</td>\n",
       "      <td>63342.277344</td>\n",
       "      <td>0</td>\n",
       "      <td>0.0</td>\n",
       "      <td>0.0</td>\n",
       "    </tr>\n",
       "    <tr>\n",
       "      <th>2024-09-23 23:57:00+00:00</th>\n",
       "      <td>63316.785156</td>\n",
       "      <td>63316.785156</td>\n",
       "      <td>63316.785156</td>\n",
       "      <td>63316.785156</td>\n",
       "      <td>53248</td>\n",
       "      <td>0.0</td>\n",
       "      <td>0.0</td>\n",
       "    </tr>\n",
       "  </tbody>\n",
       "</table>\n",
       "<p>8424 rows × 7 columns</p>\n",
       "</div>"
      ],
      "text/plain": [
       "                                   Open          High           Low  \\\n",
       "Datetime                                                              \n",
       "2024-09-17 00:00:00+00:00  58204.093750  58204.093750  58204.093750   \n",
       "2024-09-17 00:02:00+00:00  58190.289062  58190.289062  58190.289062   \n",
       "2024-09-17 00:03:00+00:00  58226.816406  58226.816406  58226.816406   \n",
       "2024-09-17 00:04:00+00:00  58249.835938  58249.835938  58249.835938   \n",
       "2024-09-17 00:05:00+00:00  58260.316406  58260.316406  58260.316406   \n",
       "...                                 ...           ...           ...   \n",
       "2024-09-23 23:53:00+00:00  63327.683594  63327.683594  63327.683594   \n",
       "2024-09-23 23:54:00+00:00  63322.550781  63322.550781  63322.550781   \n",
       "2024-09-23 23:55:00+00:00  63327.511719  63327.511719  63327.511719   \n",
       "2024-09-23 23:56:00+00:00  63342.277344  63342.277344  63342.277344   \n",
       "2024-09-23 23:57:00+00:00  63316.785156  63316.785156  63316.785156   \n",
       "\n",
       "                                  Close   Volume  Dividends  Stock Splits  \n",
       "Datetime                                                                   \n",
       "2024-09-17 00:00:00+00:00  58204.093750        0        0.0           0.0  \n",
       "2024-09-17 00:02:00+00:00  58190.289062        0        0.0           0.0  \n",
       "2024-09-17 00:03:00+00:00  58226.816406        0        0.0           0.0  \n",
       "2024-09-17 00:04:00+00:00  58249.835938        0        0.0           0.0  \n",
       "2024-09-17 00:05:00+00:00  58260.316406        0        0.0           0.0  \n",
       "...                                 ...      ...        ...           ...  \n",
       "2024-09-23 23:53:00+00:00  63327.683594  3383296        0.0           0.0  \n",
       "2024-09-23 23:54:00+00:00  63322.550781        0        0.0           0.0  \n",
       "2024-09-23 23:55:00+00:00  63327.511719        0        0.0           0.0  \n",
       "2024-09-23 23:56:00+00:00  63342.277344        0        0.0           0.0  \n",
       "2024-09-23 23:57:00+00:00  63316.785156    53248        0.0           0.0  \n",
       "\n",
       "[8424 rows x 7 columns]"
      ]
     },
     "execution_count": 8,
     "metadata": {},
     "output_type": "execute_result"
    }
   ],
   "source": [
    "btc = yf.Ticker(\"BTC-USD\")\n",
    "end_date = datetime.now().strftime('%Y-%m-%d')\n",
    "df1 = btc.history(period='max',end=end_date, interval='1m')\n",
    "df1"
   ]
  },
  {
   "cell_type": "code",
   "execution_count": 9,
   "metadata": {},
   "outputs": [
    {
     "name": "stdout",
     "output_type": "stream",
     "text": [
      "<class 'pandas.core.frame.DataFrame'>\n",
      "DatetimeIndex: 8424 entries, 2024-09-17 00:00:00+00:00 to 2024-09-23 23:57:00+00:00\n",
      "Data columns (total 7 columns):\n",
      " #   Column        Non-Null Count  Dtype  \n",
      "---  ------        --------------  -----  \n",
      " 0   Open          8424 non-null   float64\n",
      " 1   High          8424 non-null   float64\n",
      " 2   Low           8424 non-null   float64\n",
      " 3   Close         8424 non-null   float64\n",
      " 4   Volume        8424 non-null   int64  \n",
      " 5   Dividends     8424 non-null   float64\n",
      " 6   Stock Splits  8424 non-null   float64\n",
      "dtypes: float64(6), int64(1)\n",
      "memory usage: 526.5 KB\n"
     ]
    }
   ],
   "source": [
    "df1.info()"
   ]
  },
  {
   "cell_type": "code",
   "execution_count": 10,
   "metadata": {},
   "outputs": [
    {
     "data": {
      "text/plain": [
       "Dividends\n",
       "0.0    8424\n",
       "Name: count, dtype: int64"
      ]
     },
     "execution_count": 10,
     "metadata": {},
     "output_type": "execute_result"
    }
   ],
   "source": [
    "df1[\"Dividends\"].value_counts()"
   ]
  },
  {
   "cell_type": "code",
   "execution_count": 11,
   "metadata": {},
   "outputs": [
    {
     "data": {
      "text/plain": [
       "Stock Splits\n",
       "0.0    8424\n",
       "Name: count, dtype: int64"
      ]
     },
     "execution_count": 11,
     "metadata": {},
     "output_type": "execute_result"
    }
   ],
   "source": [
    "df1[\"Stock Splits\"].value_counts()"
   ]
  },
  {
   "cell_type": "code",
   "execution_count": 12,
   "metadata": {},
   "outputs": [
    {
     "data": {
      "text/html": [
       "<div>\n",
       "<style scoped>\n",
       "    .dataframe tbody tr th:only-of-type {\n",
       "        vertical-align: middle;\n",
       "    }\n",
       "\n",
       "    .dataframe tbody tr th {\n",
       "        vertical-align: top;\n",
       "    }\n",
       "\n",
       "    .dataframe thead th {\n",
       "        text-align: right;\n",
       "    }\n",
       "</style>\n",
       "<table border=\"1\" class=\"dataframe\">\n",
       "  <thead>\n",
       "    <tr style=\"text-align: right;\">\n",
       "      <th></th>\n",
       "      <th>Value</th>\n",
       "      <th>Volume</th>\n",
       "    </tr>\n",
       "    <tr>\n",
       "      <th>Datetime</th>\n",
       "      <th></th>\n",
       "      <th></th>\n",
       "    </tr>\n",
       "  </thead>\n",
       "  <tbody>\n",
       "    <tr>\n",
       "      <th>2024-09-17 00:00:00+00:00</th>\n",
       "      <td>0.079089</td>\n",
       "      <td>0.000000</td>\n",
       "    </tr>\n",
       "    <tr>\n",
       "      <th>2024-09-17 00:02:00+00:00</th>\n",
       "      <td>0.077142</td>\n",
       "      <td>0.000000</td>\n",
       "    </tr>\n",
       "    <tr>\n",
       "      <th>2024-09-17 00:03:00+00:00</th>\n",
       "      <td>0.082294</td>\n",
       "      <td>0.000000</td>\n",
       "    </tr>\n",
       "    <tr>\n",
       "      <th>2024-09-17 00:04:00+00:00</th>\n",
       "      <td>0.085541</td>\n",
       "      <td>0.000000</td>\n",
       "    </tr>\n",
       "    <tr>\n",
       "      <th>2024-09-17 00:05:00+00:00</th>\n",
       "      <td>0.087019</td>\n",
       "      <td>0.000000</td>\n",
       "    </tr>\n",
       "    <tr>\n",
       "      <th>...</th>\n",
       "      <td>...</td>\n",
       "      <td>...</td>\n",
       "    </tr>\n",
       "    <tr>\n",
       "      <th>2024-09-23 23:53:00+00:00</th>\n",
       "      <td>0.801716</td>\n",
       "      <td>0.004899</td>\n",
       "    </tr>\n",
       "    <tr>\n",
       "      <th>2024-09-23 23:54:00+00:00</th>\n",
       "      <td>0.800993</td>\n",
       "      <td>0.000000</td>\n",
       "    </tr>\n",
       "    <tr>\n",
       "      <th>2024-09-23 23:55:00+00:00</th>\n",
       "      <td>0.801692</td>\n",
       "      <td>0.000000</td>\n",
       "    </tr>\n",
       "    <tr>\n",
       "      <th>2024-09-23 23:56:00+00:00</th>\n",
       "      <td>0.803775</td>\n",
       "      <td>0.000000</td>\n",
       "    </tr>\n",
       "    <tr>\n",
       "      <th>2024-09-23 23:57:00+00:00</th>\n",
       "      <td>0.800179</td>\n",
       "      <td>0.000077</td>\n",
       "    </tr>\n",
       "  </tbody>\n",
       "</table>\n",
       "<p>8424 rows × 2 columns</p>\n",
       "</div>"
      ],
      "text/plain": [
       "                              Value    Volume\n",
       "Datetime                                     \n",
       "2024-09-17 00:00:00+00:00  0.079089  0.000000\n",
       "2024-09-17 00:02:00+00:00  0.077142  0.000000\n",
       "2024-09-17 00:03:00+00:00  0.082294  0.000000\n",
       "2024-09-17 00:04:00+00:00  0.085541  0.000000\n",
       "2024-09-17 00:05:00+00:00  0.087019  0.000000\n",
       "...                             ...       ...\n",
       "2024-09-23 23:53:00+00:00  0.801716  0.004899\n",
       "2024-09-23 23:54:00+00:00  0.800993  0.000000\n",
       "2024-09-23 23:55:00+00:00  0.801692  0.000000\n",
       "2024-09-23 23:56:00+00:00  0.803775  0.000000\n",
       "2024-09-23 23:57:00+00:00  0.800179  0.000077\n",
       "\n",
       "[8424 rows x 2 columns]"
      ]
     },
     "execution_count": 12,
     "metadata": {},
     "output_type": "execute_result"
    }
   ],
   "source": [
    "df1 = df1.drop(columns=[\"Dividends\",\"Stock Splits\",\"High\",\"Low\",\"Open\"])\n",
    "df1 = df1.rename(columns={\"Close\":\"Value\"})\n",
    "df1[\"Value\"] = (df1[\"Value\"] - df1[\"Value\"].min()) / (df1[\"Value\"].max() - df1[\"Value\"].min())\n",
    "df1[\"Volume\"] = (df1[\"Volume\"] - df1[\"Volume\"].min()) / (df1[\"Volume\"].max() - df1[\"Volume\"].min())\n",
    "df1"
   ]
  },
  {
   "cell_type": "code",
   "execution_count": 13,
   "metadata": {},
   "outputs": [
    {
     "data": {
      "image/png": "[encoded data removed]",
      "text/plain": [
       "<Figure size 640x480 with 1 Axes>"
      ]
     },
     "metadata": {},
     "output_type": "display_data"
    }
   ],
   "source": [
    "plt.plot(df1.index,df1[\"Volume\"])\n",
    "plt.plot(df1.index,df1[\"Value\"])\n",
    "plt.show()"
   ]
  },
  {
   "cell_type": "markdown",
   "metadata": {},
   "source": [
    "## Conclusão\n",
    "\n",
    "Fazendo a análise dos gráficos, consigo concluir que para saber se devo fazer a venda, a compra ou esperar eu devo analisar caso o preço está em um pico ou em um vale e analizar caso o valor normalizado do volume de transações é menor que 0.1 ou maior que 0.2 e o modelo que faz a previsão deve \"entender\" que as informações de input são uma sequência tempora. Portanto, para resolver o problema, eu fiz o criador modelo (modelCreator.py) o qual treina um modelo com camadas LSTM que recebe 60 minutos de dado e prevê o preço no próximo minuto, com a previsão no backend da aplicação, há um algoritmo simples que retorna o que deve ser feito com o crypto ativo."
   ]
  }
 ],
 "metadata": {
  "kernelspec": {
   "display_name": "venv",
   "language": "python",
   "name": "python3"
  },
  "language_info": {
   "codemirror_mode": {
    "name": "ipython",
    "version": 3
   },
   "file_extension": ".py",
   "mimetype": "text/x-python",
   "name": "python",
   "nbconvert_exporter": "python",
   "pygments_lexer": "ipython3",
   "version": "3.10.11"
  }
 },
 "nbformat": 4,
 "nbformat_minor": 2
}
